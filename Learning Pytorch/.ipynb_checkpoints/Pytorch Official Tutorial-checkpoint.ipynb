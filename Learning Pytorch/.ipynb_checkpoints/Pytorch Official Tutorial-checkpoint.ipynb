{
 "cells": [
  {
   "cell_type": "code",
   "execution_count": 1,
   "metadata": {
    "collapsed": true
   },
   "outputs": [],
   "source": [
    "from __future__ import print_function"
   ]
  },
  {
   "cell_type": "code",
   "execution_count": 2,
   "metadata": {
    "collapsed": true
   },
   "outputs": [],
   "source": [
    "import torch"
   ]
  },
  {
   "cell_type": "code",
   "execution_count": 6,
   "metadata": {},
   "outputs": [
    {
     "data": {
      "text/plain": [
       "tensor([[8.0705e+17, 1.1703e-19, 1.5637e-01],\n",
       "        [7.3899e+20, 5.0782e+31, 4.2964e+24],\n",
       "        [1.7443e+28, 3.9216e-08, 3.9552e-14],\n",
       "        [1.3563e-19, 1.8578e-01, 1.1722e-19],\n",
       "        [5.0746e+31, 7.5338e+28, 6.1687e+16]])"
      ]
     },
     "execution_count": 6,
     "metadata": {},
     "output_type": "execute_result"
    }
   ],
   "source": [
    "# create 5x3 matrix\n",
    "torch.empty(5,3)"
   ]
  },
  {
   "cell_type": "code",
   "execution_count": 11,
   "metadata": {},
   "outputs": [
    {
     "data": {
      "text/plain": [
       "tensor([[0.0414, 0.8817, 0.4231],\n",
       "        [0.2619, 0.3122, 0.7252],\n",
       "        [0.2536, 0.9197, 0.0501],\n",
       "        [0.2386, 0.3615, 0.9522],\n",
       "        [0.5918, 0.9620, 0.9000]])"
      ]
     },
     "execution_count": 11,
     "metadata": {},
     "output_type": "execute_result"
    }
   ],
   "source": [
    "torch.rand(5,3)"
   ]
  },
  {
   "cell_type": "code",
   "execution_count": 14,
   "metadata": {},
   "outputs": [
    {
     "data": {
      "text/plain": [
       "tensor([[0, 0, 0],\n",
       "        [0, 0, 0],\n",
       "        [0, 0, 0],\n",
       "        [0, 0, 0],\n",
       "        [0, 0, 0]])"
      ]
     },
     "execution_count": 14,
     "metadata": {},
     "output_type": "execute_result"
    }
   ],
   "source": [
    "torch.zeros(5,3, dtype=torch.long)"
   ]
  },
  {
   "cell_type": "code",
   "execution_count": 16,
   "metadata": {},
   "outputs": [],
   "source": [
    "x = torch.tensor([5.5, 3])"
   ]
  },
  {
   "cell_type": "code",
   "execution_count": 17,
   "metadata": {},
   "outputs": [
    {
     "name": "stdout",
     "output_type": "stream",
     "text": [
      "tensor([[1., 1., 1.],\n",
      "        [1., 1., 1.],\n",
      "        [1., 1., 1.],\n",
      "        [1., 1., 1.],\n",
      "        [1., 1., 1.]], dtype=torch.float64)\n"
     ]
    }
   ],
   "source": [
    "x = x.new_ones(5, 3, dtype=torch.double)\n",
    "print (x)"
   ]
  },
  {
   "cell_type": "code",
   "execution_count": 20,
   "metadata": {},
   "outputs": [
    {
     "name": "stdout",
     "output_type": "stream",
     "text": [
      "tensor([[0.5942, 0.6442, 0.2638],\n",
      "        [0.9067, 0.2267, 0.6155],\n",
      "        [0.4807, 0.6563, 0.6469],\n",
      "        [0.0709, 0.7850, 0.5791],\n",
      "        [0.4282, 0.3716, 0.9798]])\n"
     ]
    }
   ],
   "source": [
    "# override dtype, but result will have same size\n",
    "x = torch.rand_like(x, dtype=torch.float)\n",
    "print(x)"
   ]
  },
  {
   "cell_type": "code",
   "execution_count": 21,
   "metadata": {},
   "outputs": [
    {
     "data": {
      "text/plain": [
       "torch.Size([5, 3])"
      ]
     },
     "execution_count": 21,
     "metadata": {},
     "output_type": "execute_result"
    }
   ],
   "source": [
    "x.size() # a tuple supports all tuple operations"
   ]
  },
  {
   "cell_type": "code",
   "execution_count": 23,
   "metadata": {},
   "outputs": [
    {
     "data": {
      "text/plain": [
       "tensor([[1.1770, 0.9794, 0.8604],\n",
       "        [1.3617, 0.3348, 1.5361],\n",
       "        [1.0391, 1.2169, 0.8958],\n",
       "        [0.6811, 1.5806, 1.1482],\n",
       "        [0.6444, 0.9081, 1.5602]])"
      ]
     },
     "execution_count": 23,
     "metadata": {},
     "output_type": "execute_result"
    }
   ],
   "source": [
    "y = torch.rand(5,3)\n",
    "x+y"
   ]
  },
  {
   "cell_type": "code",
   "execution_count": 24,
   "metadata": {},
   "outputs": [
    {
     "name": "stdout",
     "output_type": "stream",
     "text": [
      "tensor([[1.1770, 0.9794, 0.8604],\n",
      "        [1.3617, 0.3348, 1.5361],\n",
      "        [1.0391, 1.2169, 0.8958],\n",
      "        [0.6811, 1.5806, 1.1482],\n",
      "        [0.6444, 0.9081, 1.5602]])\n"
     ]
    }
   ],
   "source": [
    "print(torch.add(x, y))"
   ]
  },
  {
   "cell_type": "code",
   "execution_count": 26,
   "metadata": {},
   "outputs": [
    {
     "name": "stdout",
     "output_type": "stream",
     "text": [
      "tensor([[1.1770, 0.9794, 0.8604],\n",
      "        [1.3617, 0.3348, 1.5361],\n",
      "        [1.0391, 1.2169, 0.8958],\n",
      "        [0.6811, 1.5806, 1.1482],\n",
      "        [0.6444, 0.9081, 1.5602]])\n"
     ]
    }
   ],
   "source": [
    "result = torch.empty(5,3)\n",
    "## provide an output tensor\n",
    "torch.add(x, y, out=result)\n",
    "print(result)"
   ]
  },
  {
   "cell_type": "code",
   "execution_count": null,
   "metadata": {
    "collapsed": true
   },
   "outputs": [],
   "source": []
  }
 ],
 "metadata": {
  "kernelspec": {
   "display_name": "Python [conda env:tensorflow]",
   "language": "python",
   "name": "conda-env-tensorflow-py"
  },
  "language_info": {
   "codemirror_mode": {
    "name": "ipython",
    "version": 3
   },
   "file_extension": ".py",
   "mimetype": "text/x-python",
   "name": "python",
   "nbconvert_exporter": "python",
   "pygments_lexer": "ipython3",
   "version": "3.6.5"
  }
 },
 "nbformat": 4,
 "nbformat_minor": 2
}
